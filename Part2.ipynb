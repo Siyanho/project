{
 "cells": [
  {
   "cell_type": "code",
   "execution_count": 48,
   "metadata": {},
   "outputs": [
    {
     "name": "stdout",
     "output_type": "stream",
     "text": [
      "[81, 67, 55, 53, 37, 25, 23, 21, 15, 11, 3, 0, 12, 24, 52, 66, 72, 74, 78, 92]\n",
      "0:00:00.000998\n"
     ]
    }
   ],
   "source": [
    "import random\n",
    "import datetime\n",
    "starttime = datetime.datetime.now()\n",
    "num=range(0,100) #O(1)  1op\n",
    "lis=random.sample(num,20) #O(1) 1op\n",
    "lis1=[n for n in lis if n%2==1]#O(n) (1+1+x)*20ops=(40+20x)ops\n",
    "lis2=[n for n in lis if n%2==0]#O(n) (1+1+(20-x))*20ops=(44-20x)ops \n",
    "lis1.sort(reverse=True)#O(n log n) 1op\n",
    "lis2.sort()#O(n log n)##O(n log n)  1op\n",
    "newlis=lis1+lis2 #O(1) 1op\n",
    "print(newlis)\n",
    "endtime = datetime.datetime.now()\n",
    "print (endtime - starttime)"
   ]
  },
  {
   "cell_type": "markdown",
   "metadata": {},
   "source": [
    "Firstly,timing the program..I caculate the running time of my algorithm, and it is 0.000998 second, It is very fast."
   ]
  },
  {
   "cell_type": "markdown",
   "metadata": {},
   "source": [
    "Secondly,counting operations. For other lines, the answers are obivious, because we define some primitive operations: assignments,mathematical operations, comparison, accessing objects, calling a function, return from a functi0on.For line 6, lis1=[n for n in lis if n%2==1] ------ \"for n in lis\" 1op, \"if n%2==1\" 1op, if there are x odd number in lis,lis1.append(n)---xop, and there are 20 loops, so the counting operations of this sentence are (1+1+x)*20ops=(40+20x)ops. For line 5, the same as line6, but there are (20-x)even numbers in lis,so the counting operations of this sentence are (1+1+(20-x))*20ops=(44-20x)ops . "
   ]
  },
  {
   "cell_type": "markdown",
   "metadata": {},
   "source": [
    "Moreover,bigO notation.The time complexity can be said to be asymptotic, considering what happens as the input values approach infinity.As to the algorithm above,we can see that the line 4 to line 10 are the main code, the complexity of line 4 and line5 is O(1),It is the most simple. The complexity of line6 and line7 is O(n), as n in for-loop becoming more and more ,and the complexity of the code will be more and more complex .It is more complex than O(1). The complexity of line8 and line9 is O(nlogn),because O(nlogn) is the complexity of sort().As we know,O(n!)>O(2^n)>O(n^2)>O(nlogn)>O(n)>O(logn)>O(1),and we choose the most complex one as the complexity of the algorithm, so the time algorithm of my codes is O(nlogn)."
   ]
  },
  {
   "cell_type": "markdown",
   "metadata": {},
   "source": []
  }
 ],
 "metadata": {
  "kernelspec": {
   "display_name": "Python 3",
   "language": "python",
   "name": "python3"
  },
  "language_info": {
   "codemirror_mode": {
    "name": "ipython",
    "version": 3
   },
   "file_extension": ".py",
   "mimetype": "text/x-python",
   "name": "python",
   "nbconvert_exporter": "python",
   "pygments_lexer": "ipython3",
   "version": "3.7.0"
  }
 },
 "nbformat": 4,
 "nbformat_minor": 2
}
