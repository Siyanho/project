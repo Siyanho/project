{
 "cells": [
  {
   "cell_type": "code",
   "execution_count": 46,
   "metadata": {},
   "outputs": [
    {
     "name": "stdout",
     "output_type": "stream",
     "text": [
      "[95, 93, 91, 79, 75, 73, 59, 53, 51, 49, 47, 41, 31, 21, 20, 30, 36, 52, 86, 98]\n"
     ]
    }
   ],
   "source": [
    "import random\n",
    "num=range(0,100) #O(100)\n",
    "lis=random.sample(num,20)\n",
    "lis1=[n for n in lis if n%2==1]\n",
    "lis2=[n for n in lis if n%2==0]\n",
    "lis1.sort(reverse=True)#O(n log n)\n",
    "lis2.sort()#O(n log n)\n",
    "newlis=lis1+lis2\n",
    "print(newlis)"
   ]
  },
  {
   "cell_type": "code",
   "execution_count": null,
   "metadata": {},
   "outputs": [],
   "source": []
  }
 ],
 "metadata": {
  "kernelspec": {
   "display_name": "Python 3",
   "language": "python",
   "name": "python3"
  },
  "language_info": {
   "codemirror_mode": {
    "name": "ipython",
    "version": 3
   },
   "file_extension": ".py",
   "mimetype": "text/x-python",
   "name": "python",
   "nbconvert_exporter": "python",
   "pygments_lexer": "ipython3",
   "version": "3.7.0"
  }
 },
 "nbformat": 4,
 "nbformat_minor": 2
}
