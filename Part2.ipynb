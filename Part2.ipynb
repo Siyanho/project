{
 "cells": [
  {
   "cell_type": "code",
   "execution_count": 43,
   "metadata": {},
   "outputs": [
    {
     "name": "stdout",
     "output_type": "stream",
     "text": [
      "[13, 21, 23, 25, 29, 35, 51, 67, 73, 81, 89, 99, 2, 6, 34, 48, 56, 80, 88, 92]\n"
     ]
    }
   ],
   "source": [
    "import random\n",
    "num=range(0,100)\n",
    "lis=random.sample(num,20)\n",
    "lis1=[n for n in lis if n%2==1]\n",
    "lis2=[n for n in lis if n%2==0]\n",
    "lis1.sort()\n",
    "lis2.sort()\n",
    "newlis=lis1+lis2\n",
    "print(newlis)"
   ]
  },
  {
   "cell_type": "code",
   "execution_count": null,
   "metadata": {},
   "outputs": [],
   "source": []
  }
 ],
 "metadata": {
  "kernelspec": {
   "display_name": "Python 3",
   "language": "python",
   "name": "python3"
  },
  "language_info": {
   "codemirror_mode": {
    "name": "ipython",
    "version": 3
   },
   "file_extension": ".py",
   "mimetype": "text/x-python",
   "name": "python",
   "nbconvert_exporter": "python",
   "pygments_lexer": "ipython3",
   "version": "3.7.0"
  }
 },
 "nbformat": 4,
 "nbformat_minor": 2
}
